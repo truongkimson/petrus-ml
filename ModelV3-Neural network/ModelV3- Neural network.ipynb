{
 "cells": [
  {
   "cell_type": "code",
   "execution_count": 95,
   "source": [
    "import pandas as pd\r\n",
    "df=pd.read_csv(\"trainv2.csv\")"
   ],
   "outputs": [],
   "metadata": {}
  },
  {
   "cell_type": "code",
   "execution_count": 96,
   "source": [
    "df=df.drop(columns=\"Unnamed: 0\")"
   ],
   "outputs": [],
   "metadata": {}
  },
  {
   "cell_type": "code",
   "execution_count": 97,
   "source": [
    "df=df.drop(columns=[\"Breed1\",\"Breed2\",\"Color2\",\"Color3\"])\r\n",
    "df = pd.get_dummies(df, columns=['Color1', 'Vaccinated', 'Dewormed','Sterilized','Health'],drop_first=True)\r\n",
    "df = pd.get_dummies(df, columns=['AdoptionSpeed'])"
   ],
   "outputs": [],
   "metadata": {}
  },
  {
   "cell_type": "code",
   "execution_count": 98,
   "source": [
    "x=df[['Type','Name','Age','Gender', 'MaturitySize', 'FurLength',\r\n",
    "       'Quantity', 'Fee', 'VideoAmt', 'Description','PhotoAmt', 'Color1_2',\r\n",
    "       'Color1_3', 'Color1_4', 'Color1_5', 'Color1_6', 'Color1_7',\r\n",
    "       'Vaccinated_2', 'Vaccinated_3', 'Dewormed_2', 'Dewormed_3',\r\n",
    "       'Sterilized_2', 'Sterilized_3', 'Health_2', 'Health_3']]\r\n",
    "y=df[['AdoptionSpeed_0', 'AdoptionSpeed_1', 'AdoptionSpeed_2',\r\n",
    "       'AdoptionSpeed_3', 'AdoptionSpeed_4']]\r\n",
    "\r\n",
    "from sklearn import preprocessing\r\n",
    "\r\n",
    "x_arr = x.values\r\n",
    "min_max_scaler = preprocessing.MinMaxScaler()\r\n",
    "x_scaled = min_max_scaler.fit_transform(x_arr)\r\n",
    "x = pd.DataFrame(x_scaled, columns=x.columns)"
   ],
   "outputs": [],
   "metadata": {}
  },
  {
   "cell_type": "code",
   "execution_count": 99,
   "source": [
    "from sklearn.model_selection import train_test_split\r\n",
    "X_train, X_test, Y_train, Y_test=train_test_split(x, y, random_state = 42)"
   ],
   "outputs": [],
   "metadata": {}
  },
  {
   "cell_type": "code",
   "execution_count": 100,
   "source": [
    "X_train=X_train.values\r\n",
    "Y_train=Y_train.values"
   ],
   "outputs": [],
   "metadata": {}
  },
  {
   "cell_type": "code",
   "execution_count": null,
   "source": [
    "import tensorflow as tf\r\n",
    "model=tf.keras.Sequential()\r\n",
    "model.add(tf.keras.layers.Dense(500,input_shape=(25,),activation=\"sigmoid\"))\r\n",
    "model.add(tf.keras.layers.Dense(5,activation=\"softmax\"))\r\n",
    "model.compile(optimizer=\"adam\",loss=\"categorical_crossentropy\",metrics=[\"accuracy\"])\r\n",
    "model.fit(X_train,Y_train,batch_size=64,epochs=500,verbose=1)"
   ],
   "outputs": [],
   "metadata": {}
  },
  {
   "cell_type": "code",
   "execution_count": 102,
   "source": [
    "loss=model.evaluate(X_test,Y_test,verbose=1)\r\n",
    "print(\"Loss: \"+str(loss)+\"\\n\")"
   ],
   "outputs": [
    {
     "output_type": "stream",
     "name": "stdout",
     "text": [
      "118/118 [==============================] - 0s 489us/step - loss: 1.4388 - accuracy: 0.3590\n",
      "Loss: [1.4387961626052856, 0.359029084444046]\n",
      "\n"
     ]
    }
   ],
   "metadata": {}
  },
  {
   "cell_type": "code",
   "execution_count": null,
   "source": [
    "import numpy as np\r\n",
    "predictions=model.predict(X_test)\r\n",
    "Y_test=Y_test.values\r\n",
    "for i in range(len(predictions)):\r\n",
    "    max_value=max(predictions[i])\r\n",
    "    most_likely_prediction=[1 if x==max_value else 0 for x in predictions[i]]\r\n",
    "    print(\" Actual: \"+str(list(Y_test[i]))+\" Predicted: \"+str(most_likely_prediction))"
   ],
   "outputs": [],
   "metadata": {}
  },
  {
   "cell_type": "code",
   "execution_count": null,
   "source": [
    "import pickle\r\n",
    "\r\n",
    "with open('adoption_speed_v3.model', 'wb') as f:\r\n",
    "    pickle.dump(model, f)"
   ],
   "outputs": [],
   "metadata": {}
  }
 ],
 "metadata": {
  "kernelspec": {
   "display_name": "Python [conda env:tf]",
   "language": "python",
   "name": "conda-env-tf-py"
  },
  "language_info": {
   "codemirror_mode": {
    "name": "ipython",
    "version": 3
   },
   "file_extension": ".py",
   "mimetype": "text/x-python",
   "name": "python",
   "nbconvert_exporter": "python",
   "pygments_lexer": "ipython3",
   "version": "3.8.10"
  }
 },
 "nbformat": 4,
 "nbformat_minor": 4
}